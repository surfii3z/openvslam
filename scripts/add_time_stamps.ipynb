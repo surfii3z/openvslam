{
 "metadata": {
  "language_info": {
   "codemirror_mode": {
    "name": "ipython",
    "version": 3
   },
   "file_extension": ".py",
   "mimetype": "text/x-python",
   "name": "python",
   "nbconvert_exporter": "python",
   "pygments_lexer": "ipython3",
   "version": "3.8.3-final"
  },
  "orig_nbformat": 2,
  "kernelspec": {
   "name": "python38364bitbaseconda1c34d026273c4ff9a175caf3f40abaeb",
   "display_name": "Python 3.8.3 64-bit ('base': conda)"
  }
 },
 "nbformat": 4,
 "nbformat_minor": 2,
 "cells": [
  {
   "cell_type": "code",
   "execution_count": 61,
   "metadata": {},
   "outputs": [],
   "source": [
    "import numpy as np"
   ]
  },
  {
   "cell_type": "code",
   "execution_count": 62,
   "metadata": {
    "tags": []
   },
   "outputs": [],
   "source": [
    "f_with_timestamps = open(\"frame_trajectory_stereo_kitti_odom09_no_lc.txt\", 'r')\n",
    "time = list()\n",
    "for line in f_with_timestamps:\n",
    "    line = line.split(' ')\n",
    "    time.append(line[0])\n",
    "f_with_timestamps.close()"
   ]
  },
  {
   "cell_type": "code",
   "execution_count": 65,
   "metadata": {
    "tags": []
   },
   "outputs": [
    {
     "output_type": "stream",
     "name": "stdout",
     "text": "[&#39;0&#39;, &#39;0.0178810847&#39;, &#39;-0.0068474503&#39;, &#39;0.2835885508&#39;, &#39;-0.0005854287&#39;, &#39;0.0055792944&#39;, &#39;0.0013090583&#39;, &#39;0.9999834074&#39;]\n"
    }
   ],
   "source": [
    "f_to_add = open(\"posenet_kitti_odom_09.txt\", 'r')\n",
    "count = 0\n",
    "lines = list()\n",
    "for line in f_to_add:\n",
    "    line = line.strip().split(' ')\n",
    "    lines.append([time[count]] + line)\n",
    "    count += 1\n",
    "f_to_add.close()\n"
   ]
  },
  {
   "cell_type": "code",
   "execution_count": 73,
   "metadata": {
    "tags": []
   },
   "outputs": [],
   "source": [
    "output_file = open(\"posenet_kitti_odom_09.txt\", 'w')\n",
    "for line in lines:\n",
    "    output_file.write(\"%s %s %s %s %s %s %s %s\\n\" % \n",
    "                        (line[0], line[1], line[2], line[3], line[4], line[5], line[6], line[7]))\n",
    "\n",
    "output_file.close()"
   ]
  },
  {
   "cell_type": "code",
   "execution_count": null,
   "metadata": {},
   "outputs": [],
   "source": []
  }
 ]
}